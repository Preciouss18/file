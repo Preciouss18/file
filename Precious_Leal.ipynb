{
  "nbformat": 4,
  "nbformat_minor": 0,
  "metadata": {
    "colab": {
      "name": "Precious Leal",
      "provenance": [],
      "collapsed_sections": [],
      "authorship_tag": "ABX9TyOK4vTr6Z9X9y4sv1OO3qhQ",
      "include_colab_link": true
    },
    "kernelspec": {
      "name": "python3",
      "display_name": "Python 3"
    },
    "language_info": {
      "name": "python"
    }
  },
  "cells": [
    {
      "cell_type": "markdown",
      "metadata": {
        "id": "view-in-github",
        "colab_type": "text"
      },
      "source": [
        "<a href=\"https://colab.research.google.com/github/Preciouss18/file/blob/main/Precious_Leal.ipynb\" target=\"_parent\"><img src=\"https://colab.research.google.com/assets/colab-badge.svg\" alt=\"Open In Colab\"/></a>"
      ]
    },
    {
      "cell_type": "markdown",
      "metadata": {
        "id": "E5Jm6oiKJeoO"
      },
      "source": [
        "Numeric Data Type\n",
        "\n",
        "Date: 2021/10/11\n",
        "\n",
        "Name: Precious Princess M. Leal\n",
        "\n",
        "彭芮熙 4100E218"
      ]
    },
    {
      "cell_type": "markdown",
      "metadata": {
        "id": "jZTuSxByJxOV"
      },
      "source": [
        "Arithmetic Operators"
      ]
    },
    {
      "cell_type": "code",
      "metadata": {
        "id": "xYrEneCaDcns"
      },
      "source": [
        "In [1]: a = 19 / 4"
      ],
      "execution_count": null,
      "outputs": []
    },
    {
      "cell_type": "code",
      "metadata": {
        "id": "A45cwYNOD9xs"
      },
      "source": [
        "Out [1]:\"4.75\""
      ],
      "execution_count": null,
      "outputs": []
    },
    {
      "cell_type": "code",
      "metadata": {
        "id": "s00734H9E0g7"
      },
      "source": [
        "In [3]: b = 19 // 4"
      ],
      "execution_count": null,
      "outputs": []
    },
    {
      "cell_type": "code",
      "metadata": {
        "id": "Ps909hewFOJQ"
      },
      "source": [
        "Out [3]: 4"
      ],
      "execution_count": null,
      "outputs": []
    },
    {
      "cell_type": "code",
      "metadata": {
        "id": "j4N1juP_FeH4"
      },
      "source": [
        "In [5]: c = 19 % 4"
      ],
      "execution_count": null,
      "outputs": []
    },
    {
      "cell_type": "code",
      "metadata": {
        "id": "cUUSiwdXGDQM"
      },
      "source": [
        "Out[5]: 1\n"
      ],
      "execution_count": null,
      "outputs": []
    },
    {
      "cell_type": "markdown",
      "metadata": {
        "id": "KEMGQ9Z1Ig_m"
      },
      "source": [
        "19 = 6*3 + 1(remainder)"
      ]
    },
    {
      "cell_type": "markdown",
      "metadata": {
        "id": "YL7eFV9MJpM0"
      },
      "source": [
        "Logical operators"
      ]
    },
    {
      "cell_type": "code",
      "metadata": {
        "colab": {
          "base_uri": "https://localhost:8080/"
        },
        "id": "x5qv8PTjK13K",
        "outputId": "4b543ee6-af68-4f95-8833-1d6b22c6e526"
      },
      "source": [
        "x = 4\n",
        "print(x > 2 and x > 5)"
      ],
      "execution_count": null,
      "outputs": [
        {
          "output_type": "stream",
          "name": "stdout",
          "text": [
            "False\n"
          ]
        }
      ]
    },
    {
      "cell_type": "markdown",
      "metadata": {
        "id": "A3pgBA28L4fd"
      },
      "source": [
        "x = 4\n",
        "print(x > 2 or x > 5)"
      ]
    },
    {
      "cell_type": "markdown",
      "metadata": {
        "id": "JPAEO2oJM8eJ"
      },
      "source": [
        "\n",
        "Built-in functions"
      ]
    },
    {
      "cell_type": "code",
      "metadata": {
        "colab": {
          "base_uri": "https://localhost:8080/",
          "height": 35
        },
        "id": "MUOFmmrPM_Bi",
        "outputId": "6520137b-e39b-4bad-9cde-9605a688d0af"
      },
      "source": [
        "bin(4)"
      ],
      "execution_count": null,
      "outputs": [
        {
          "output_type": "execute_result",
          "data": {
            "application/vnd.google.colaboratory.intrinsic+json": {
              "type": "string"
            },
            "text/plain": [
              "'0b100'"
            ]
          },
          "metadata": {},
          "execution_count": 68
        }
      ]
    },
    {
      "cell_type": "code",
      "metadata": {
        "colab": {
          "base_uri": "https://localhost:8080/"
        },
        "id": "DSLDlbgXNMda",
        "outputId": "9692fd83-eeda-4fc9-f719-cf1630785cd3"
      },
      "source": [
        "int(0b100)"
      ],
      "execution_count": null,
      "outputs": [
        {
          "output_type": "execute_result",
          "data": {
            "text/plain": [
              "4"
            ]
          },
          "metadata": {},
          "execution_count": 69
        }
      ]
    },
    {
      "cell_type": "markdown",
      "metadata": {
        "id": "4zhFP1iyQmSl"
      },
      "source": [
        "2_string data type"
      ]
    },
    {
      "cell_type": "code",
      "metadata": {
        "colab": {
          "base_uri": "https://localhost:8080/",
          "height": 35
        },
        "id": "67v3FbTjQpPv",
        "outputId": "b4959777-d613-4fa8-bcc7-2b0b26a5bda8"
      },
      "source": [
        "str3 = 'beauty \"and the\" beast'\n",
        "str3"
      ],
      "execution_count": null,
      "outputs": [
        {
          "output_type": "execute_result",
          "data": {
            "application/vnd.google.colaboratory.intrinsic+json": {
              "type": "string"
            },
            "text/plain": [
              "'beauty \"and the\" beast'"
            ]
          },
          "metadata": {},
          "execution_count": 70
        }
      ]
    },
    {
      "cell_type": "markdown",
      "metadata": {
        "id": "9p7l3aKuRcI5"
      },
      "source": [
        "operation on strings"
      ]
    },
    {
      "cell_type": "code",
      "metadata": {
        "colab": {
          "base_uri": "https://localhost:8080/"
        },
        "id": "3xu3kzoRRgq7",
        "outputId": "dbffa600-9897-4761-a150-4d09a7c09b21"
      },
      "source": [
        "var1 = 'Hello Beast'\n",
        "\n",
        "print(\"var1[0]: \", var1[0])"
      ],
      "execution_count": null,
      "outputs": [
        {
          "output_type": "stream",
          "name": "stdout",
          "text": [
            "var1[0]:  H\n"
          ]
        }
      ]
    },
    {
      "cell_type": "markdown",
      "metadata": {
        "id": "8gobkMqaS0aP"
      },
      "source": [
        "slice operation"
      ]
    },
    {
      "cell_type": "code",
      "metadata": {
        "colab": {
          "base_uri": "https://localhost:8080/"
        },
        "id": "7Six5vHOS2fZ",
        "outputId": "5609c172-f49d-4533-d7d9-cd97fe90bfcb"
      },
      "source": [
        "b = \"Hello, Beast!\"\n",
        "#print(b[2:5])\n",
        "#print(b[:6])\n",
        "#print(b[2:])\n",
        "print(b[-5:-2])"
      ],
      "execution_count": null,
      "outputs": [
        {
          "output_type": "stream",
          "name": "stdout",
          "text": [
            "eas\n"
          ]
        }
      ]
    },
    {
      "cell_type": "markdown",
      "metadata": {
        "id": "nWMKtlKfS_gd"
      },
      "source": [
        "capitalize() Converts the first character to upper case"
      ]
    },
    {
      "cell_type": "code",
      "metadata": {
        "colab": {
          "base_uri": "https://localhost:8080/"
        },
        "id": "TwcOA82xNlwv",
        "outputId": "2b272378-8dc5-4e84-f3c0-a5cc81e849c4"
      },
      "source": [
        "run = \"fast\"\n",
        "x = run.capitalize()\n",
        "print (x)"
      ],
      "execution_count": null,
      "outputs": [
        {
          "output_type": "stream",
          "name": "stdout",
          "text": [
            "Fast\n"
          ]
        }
      ]
    },
    {
      "cell_type": "markdown",
      "metadata": {
        "id": "lJGX0A2hN9VD"
      },
      "source": [
        "Join Method"
      ]
    },
    {
      "cell_type": "code",
      "metadata": {
        "colab": {
          "base_uri": "https://localhost:8080/"
        },
        "id": "lnKCrpLrN-4U",
        "outputId": "c62378ce-5521-4156-92d8-ea9da165b27d"
      },
      "source": [
        "join = (\"I am\", \"happy\")\n",
        "x = \"-\".join(join)\n",
        "print (x)"
      ],
      "execution_count": null,
      "outputs": [
        {
          "output_type": "stream",
          "name": "stdout",
          "text": [
            "I am-happy\n"
          ]
        }
      ]
    },
    {
      "cell_type": "markdown",
      "metadata": {
        "id": "_f6y307bPj4q"
      },
      "source": [
        "3_list data type"
      ]
    },
    {
      "cell_type": "code",
      "metadata": {
        "colab": {
          "base_uri": "https://localhost:8080/"
        },
        "id": "LJLLcx2HPvlP",
        "outputId": "6b2bb3d3-a651-42b3-8ff0-750c0e3b5c73"
      },
      "source": [
        "list1 = [1, 2, 3, 4, 5, 6]\n",
        "\n",
        "list1[0]"
      ],
      "execution_count": null,
      "outputs": [
        {
          "output_type": "execute_result",
          "data": {
            "text/plain": [
              "1"
            ]
          },
          "metadata": {},
          "execution_count": 75
        }
      ]
    },
    {
      "cell_type": "markdown",
      "metadata": {
        "id": "-KGmnjE2UN2H"
      },
      "source": [
        "slice operation"
      ]
    },
    {
      "cell_type": "code",
      "metadata": {
        "colab": {
          "base_uri": "https://localhost:8080/"
        },
        "id": "PHqYPNegUOj_",
        "outputId": "d9be0cba-2795-41fc-fb1b-4fef37d2aa10"
      },
      "source": [
        "list1[4:6]"
      ],
      "execution_count": null,
      "outputs": [
        {
          "output_type": "execute_result",
          "data": {
            "text/plain": [
              "[5, 6]"
            ]
          },
          "metadata": {},
          "execution_count": 76
        }
      ]
    },
    {
      "cell_type": "markdown",
      "metadata": {
        "id": "8iQhagayUuyv"
      },
      "source": [
        "list built-in functions"
      ]
    },
    {
      "cell_type": "code",
      "metadata": {
        "colab": {
          "base_uri": "https://localhost:8080/"
        },
        "id": "A9ISJC8vUvct",
        "outputId": "0147fa18-cae2-4e20-d833-915d8eecebd0"
      },
      "source": [
        "len(list1)"
      ],
      "execution_count": null,
      "outputs": [
        {
          "output_type": "execute_result",
          "data": {
            "text/plain": [
              "6"
            ]
          },
          "metadata": {},
          "execution_count": 77
        }
      ]
    },
    {
      "cell_type": "code",
      "metadata": {
        "colab": {
          "base_uri": "https://localhost:8080/"
        },
        "id": "DXT17f1gU1-w",
        "outputId": "58991d93-4342-43ce-d209-d3193ff67811"
      },
      "source": [
        "max(list1)"
      ],
      "execution_count": null,
      "outputs": [
        {
          "output_type": "execute_result",
          "data": {
            "text/plain": [
              "6"
            ]
          },
          "metadata": {},
          "execution_count": 78
        }
      ]
    },
    {
      "cell_type": "code",
      "metadata": {
        "colab": {
          "base_uri": "https://localhost:8080/"
        },
        "id": "SIX32zLcU4ys",
        "outputId": "1514565c-7010-4827-be12-f9c3340ce325"
      },
      "source": [
        "min(list1)"
      ],
      "execution_count": null,
      "outputs": [
        {
          "output_type": "execute_result",
          "data": {
            "text/plain": [
              "1"
            ]
          },
          "metadata": {},
          "execution_count": 79
        }
      ]
    },
    {
      "cell_type": "markdown",
      "metadata": {
        "id": "4KBQ4uXJVA6Y"
      },
      "source": [
        "\n",
        "4_dict data type"
      ]
    },
    {
      "cell_type": "code",
      "metadata": {
        "id": "x29OueEqVBvp",
        "colab": {
          "base_uri": "https://localhost:8080/"
        },
        "outputId": "064cbdf2-ec11-4c72-de24-e57709293f05"
      },
      "source": [
        "dict = {'Name': 'Precious', 'Age': 20, 'Class': 'First'}\n",
        "print(dict['Name'], dict['Age'])"
      ],
      "execution_count": null,
      "outputs": [
        {
          "output_type": "stream",
          "name": "stdout",
          "text": [
            "Precious 20\n"
          ]
        }
      ]
    }
  ]
}