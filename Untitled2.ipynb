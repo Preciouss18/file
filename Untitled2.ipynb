{
  "nbformat": 4,
  "nbformat_minor": 0,
  "metadata": {
    "colab": {
      "name": "Untitled2.ipynb",
      "provenance": [],
      "collapsed_sections": [],
      "authorship_tag": "ABX9TyPHvnceI/iSV30uPD4QeJRl",
      "include_colab_link": true
    },
    "kernelspec": {
      "name": "python3",
      "display_name": "Python 3"
    },
    "language_info": {
      "name": "python"
    }
  },
  "cells": [
    {
      "cell_type": "markdown",
      "metadata": {
        "id": "view-in-github",
        "colab_type": "text"
      },
      "source": [
        "<a href=\"https://colab.research.google.com/github/Preciouss18/file/blob/main/Untitled2.ipynb\" target=\"_parent\"><img src=\"https://colab.research.google.com/assets/colab-badge.svg\" alt=\"Open In Colab\"/></a>"
      ]
    },
    {
      "cell_type": "code",
      "metadata": {
        "colab": {
          "base_uri": "https://localhost:8080/"
        },
        "id": "Q80xwaakPZo2",
        "outputId": "c6e532b0-a591-4f86-c901-83a8119b67ce"
      },
      "source": [
        "def sum(f1, f2, f3):\n",
        "  result = 0\n",
        "  for f in range(f1, f2, f3):\n",
        "     result += f\n",
        "     return result \n",
        "\n",
        "def main():\n",
        "    print(\"Sum1\", sum(2, 4, 6)) \n",
        "    print(\"Sum2\", sum(20, 40, 60))\n",
        "    print(\"Sum3\", sum(200, 400,600))\n",
        "\n",
        "main() # Call the main function"
      ],
      "execution_count": 1,
      "outputs": [
        {
          "output_type": "stream",
          "name": "stdout",
          "text": [
            "Sum1 2\n",
            "Sum2 20\n",
            "Sum3 200\n"
          ]
        }
      ]
    },
    {
      "cell_type": "code",
      "metadata": {
        "colab": {
          "base_uri": "https://localhost:8080/"
        },
        "id": "gBabCeAje4js",
        "outputId": "b03b6093-4fb5-4fc6-e68d-4eeee83945bf"
      },
      "source": [
        "def swap(l,v):\n",
        "  l,v = v,l\n",
        "  return (l,v)\n",
        "\n",
        "if __name__ == '__main__':\n",
        "    l = 18\n",
        "    v = 88\n",
        "    print('l = %d,v = %d' % (l,v))\n",
        "    l,v = swap(l,v)\n",
        "    print('l = %d,v = %d' % (l,v))"
      ],
      "execution_count": 2,
      "outputs": [
        {
          "output_type": "stream",
          "name": "stdout",
          "text": [
            "l = 18,v = 88\n",
            "l = 88,v = 18\n"
          ]
        }
      ]
    },
    {
      "cell_type": "code",
      "metadata": {
        "colab": {
          "base_uri": "https://localhost:8080/"
        },
        "id": "S4-qGIsfp8fV",
        "outputId": "20e2f9a0-6616-473e-aab1-799eaba68347"
      },
      "source": [
        "def sort(number33, number55):\n",
        "    if number33 < number55:\n",
        "        return number33, number55\n",
        "    else:\n",
        "        return number55, number33\n",
        "\n",
        "num33, num55 = sort(40,45 )\n",
        "\n",
        "print(\"num33 is\", num33)\n",
        "print(\"num55 is\", num55)"
      ],
      "execution_count": 4,
      "outputs": [
        {
          "output_type": "stream",
          "name": "stdout",
          "text": [
            "num33 is 40\n",
            "num55 is 45\n"
          ]
        }
      ]
    },
    {
      "cell_type": "code",
      "metadata": {
        "colab": {
          "base_uri": "https://localhost:8080/"
        },
        "id": "dgFKO_6xeBcF",
        "outputId": "4c0fd020-30aa-41d9-e90d-bbde2f22f794"
      },
      "source": [
        "def sort(number77, number88, number99):\n",
        "    if (number77 < number88) and (number77 < number99):\n",
        "      if number88 < number99:\n",
        "        return number77, number88,number99\n",
        "      else:\n",
        "        return number77, number99,number88\n",
        "    if (number88 < number77) and (number88 < number99):\n",
        "      if number77 < number99:\n",
        "        return number88, number77,number99\n",
        "      else:\n",
        "        return number88, number99,number77    \n",
        "    if (number3 < number77) and (number99 < number88):\n",
        "      if number77 < number88:\n",
        "        return number99, number77,number88\n",
        "      else:\n",
        "        return number99, number88,number77 \n",
        "\n",
        "num77, num88, num99  = sort(17,28,39)\n",
        "\n",
        "print(\"num77 is\", num77)\n",
        "print(\"num88 is\", num88)\n",
        "print(\"num88 is\", num99)"
      ],
      "execution_count": 3,
      "outputs": [
        {
          "output_type": "stream",
          "name": "stdout",
          "text": [
            "num77 is 17\n",
            "num88 is 28\n",
            "num88 is 39\n"
          ]
        }
      ]
    },
    {
      "cell_type": "code",
      "metadata": {
        "colab": {
          "base_uri": "https://localhost:8080/"
        },
        "id": "ikaAtvg4rfpA",
        "outputId": "79ed66ee-4865-4149-82d6-b7ff8db5907d"
      },
      "source": [
        "def sort(number2, number4, number6):\n",
        "    if number2 < number4 < number6:\n",
        "        return number2, number4, number6\n",
        "    else:\n",
        "        return number6, number4, number2\n",
        "\n",
        "num2, num4, num6 = sort(20, 40, 60)\n",
        "\n",
        "print(\"num2 is\", num2)\n",
        "print(\"num4 is\", num4)\n",
        "print(\"num6 is\", num6)"
      ],
      "execution_count": 5,
      "outputs": [
        {
          "output_type": "stream",
          "name": "stdout",
          "text": [
            "num2 is 20\n",
            "num4 is 40\n",
            "num6 is 60\n"
          ]
        }
      ]
    },
    {
      "cell_type": "code",
      "metadata": {
        "id": "ifvDwahtsLJ_"
      },
      "source": [
        "#!/usr/bin/python \n",
        "# -*- coding: UTF-8 -*- \n",
        "\n",
        "def printArea(width = 11, height = 22):\n",
        "    area = width * height\n",
        "    print(\"width:\", width, \"\\theight:\", height, \"\\tarea:\", area)"
      ],
      "execution_count": 25,
      "outputs": []
    },
    {
      "cell_type": "markdown",
      "metadata": {
        "id": "T4ipq8DdtVfV"
      },
      "source": [
        "use default arguments"
      ]
    },
    {
      "cell_type": "code",
      "metadata": {
        "colab": {
          "base_uri": "https://localhost:8080/"
        },
        "id": "6sL407fwtCWd",
        "outputId": "9d52c400-1ec4-4caa-83df-ce232caa68f5"
      },
      "source": [
        "printArea()"
      ],
      "execution_count": 11,
      "outputs": [
        {
          "output_type": "stream",
          "name": "stdout",
          "text": [
            "width: 11 \theight: 22 \tarea: 242\n"
          ]
        }
      ]
    },
    {
      "cell_type": "markdown",
      "metadata": {
        "id": "rI6n9juCtdh5"
      },
      "source": [
        "use Keyword arguments"
      ]
    },
    {
      "cell_type": "code",
      "metadata": {
        "colab": {
          "base_uri": "https://localhost:8080/"
        },
        "id": "7V5ofdSVtiy7",
        "outputId": "591394ab-4228-40a8-bb84-415cfe3a47ab"
      },
      "source": [
        "printArea(width = 111, height = 222)"
      ],
      "execution_count": 13,
      "outputs": [
        {
          "output_type": "stream",
          "name": "stdout",
          "text": [
            "width: 111 \theight: 222 \tarea: 24642\n"
          ]
        }
      ]
    },
    {
      "cell_type": "code",
      "metadata": {
        "colab": {
          "base_uri": "https://localhost:8080/"
        },
        "id": "po_2j7jyttep",
        "outputId": "53a3e093-671a-496a-b01a-773225f35e7f"
      },
      "source": [
        "printArea(height = 222, width = 111)"
      ],
      "execution_count": 14,
      "outputs": [
        {
          "output_type": "stream",
          "name": "stdout",
          "text": [
            "width: 111 \theight: 222 \tarea: 24642\n"
          ]
        }
      ]
    },
    {
      "cell_type": "markdown",
      "metadata": {
        "id": "9ci3ojw9uB9U"
      },
      "source": [
        "use Positional arguments"
      ]
    },
    {
      "cell_type": "code",
      "metadata": {
        "colab": {
          "base_uri": "https://localhost:8080/"
        },
        "id": "dKB5ytbMuBqE",
        "outputId": "e9edaa86-d636-4145-9a21-a306badb85c0"
      },
      "source": [
        "printArea(110,90)"
      ],
      "execution_count": 15,
      "outputs": [
        {
          "output_type": "stream",
          "name": "stdout",
          "text": [
            "width: 110 \theight: 90 \tarea: 9900\n"
          ]
        }
      ]
    },
    {
      "cell_type": "code",
      "metadata": {
        "colab": {
          "base_uri": "https://localhost:8080/"
        },
        "id": "pQ3yYPfnuRGE",
        "outputId": "6e92475f-9e17-4c9a-f804-8a2606fc61b8"
      },
      "source": [
        "printArea(90,110)"
      ],
      "execution_count": 16,
      "outputs": [
        {
          "output_type": "stream",
          "name": "stdout",
          "text": [
            "width: 90 \theight: 110 \tarea: 9900\n"
          ]
        }
      ]
    }
  ]
}